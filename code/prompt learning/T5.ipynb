{
 "cells": [
  {
   "cell_type": "code",
   "execution_count": 1,
   "metadata": {},
   "outputs": [],
   "source": [
    "import pandas as pd\n",
    "\n",
    "filename = '../../data/BioPubSum/BioPubSumm_test_fill.xlsx'\n",
    "df = pd.read_excel(filename)\n",
    "abstracts = df['Abstract'].tolist()\n",
    "raw_highlights = df['New_Highlight'].tolist()"
   ]
  },
  {
   "attachments": {},
   "cell_type": "markdown",
   "metadata": {},
   "source": [
    "#### simple inference"
   ]
  },
  {
   "cell_type": "code",
   "execution_count": null,
   "metadata": {},
   "outputs": [],
   "source": [
    "import torch\n",
    "import torch.nn\n",
    "from transformers import AutoTokenizer, AutoModelForSeq2SeqLM\n",
    "import rouge\n",
    "\n",
    "r_computer = rouge.Rouge(metrics=['rouge-n', 'rouge-l'], limit_length=False, max_n=2, alpha=0.5, stemming=False)\n",
    "\n",
    "checkpoints = [\n",
    "    'google/flan-t5-base',\n",
    "    'google/flan-t5-large',\n",
    "    'facebook/bart-large',\n",
    "    't5-base',\n",
    "    't5-large'\n",
    "]\n",
    "tokenizer = AutoTokenizer.from_pretrained(checkpoints[3])\n",
    "model = AutoModelForSeq2SeqLM.from_pretrained(checkpoints[3])"
   ]
  },
  {
   "cell_type": "code",
   "execution_count": 3,
   "metadata": {},
   "outputs": [],
   "source": [
    "task_prefixs = [\n",
    "    'Summarize: ',\n",
    "    'Summarize the higlight: ',\n",
    "    'Summarize the mainly work: ',\n",
    "    'Extract the highlight: ',\n",
    "    'Extract the mainly work: ',\n",
    "]"
   ]
  },
  {
   "cell_type": "code",
   "execution_count": 4,
   "metadata": {},
   "outputs": [],
   "source": [
    "import torch\n",
    "from torch.utils.data import Dataset, DataLoader\n",
    "\n",
    "class MyDataset(Dataset):\n",
    "    def __init__(self, inputs):\n",
    "        self.inputs = inputs\n",
    "\n",
    "    def __len__(self):\n",
    "        return self.inputs['input_ids'].shape[0]\n",
    "\n",
    "    def __getitem__(self, idx):\n",
    "        return self.inputs['input_ids'][idx], self.inputs['attention_mask'][idx]"
   ]
  },
  {
   "cell_type": "code",
   "execution_count": 5,
   "metadata": {},
   "outputs": [],
   "source": [
    "device = 'cuda:0' if torch.cuda.is_available() else 'cpu'\n",
    "model = model.to(device)"
   ]
  },
  {
   "attachments": {},
   "cell_type": "markdown",
   "metadata": {},
   "source": [
    "* based on model.generate"
   ]
  },
  {
   "cell_type": "code",
   "execution_count": 6,
   "metadata": {},
   "outputs": [],
   "source": [
    "task_prefix = task_prefixs[0]\n",
    "texts = [task_prefix + abstract for abstract in abstracts]\n",
    "\n",
    "inputs = tokenizer(texts, padding=True, truncation=True, max_length=512, return_tensors='pt')"
   ]
  },
  {
   "cell_type": "code",
   "execution_count": 7,
   "metadata": {},
   "outputs": [],
   "source": [
    "import torch\n",
    "\n",
    "infer_data = MyDataset(inputs)\n",
    "infer_dataloader = DataLoader(infer_data, batch_size=32)"
   ]
  },
  {
   "cell_type": "code",
   "execution_count": null,
   "metadata": {},
   "outputs": [],
   "source": [
    "from tqdm import tqdm\n",
    "\n",
    "epochs = 4\n",
    "rouge_1, rouge_2, rouge_l = [], [], []\n",
    "\n",
    "for epoch in range(epochs):\n",
    "    generate_contexts = []\n",
    "    for i, inputs in enumerate(tqdm(infer_dataloader)):\n",
    "        input_ids, attention_mask = inputs\n",
    "        output_ids = model.generate(\n",
    "            input_ids = input_ids.to(device),\n",
    "            attention_mask = attention_mask.to(device),\n",
    "            do_sample=True,\n",
    "            top_k=100,\n",
    "            top_p=0.92,\n",
    "            temperature=0.9,\n",
    "            repetition_penalty=1.5,\n",
    "            max_new_tokens=120\n",
    "        )\n",
    "\n",
    "        outputs = tokenizer.batch_decode(output_ids, skip_special_tokens=True)\n",
    "        generate_contexts.extend(outputs)\n",
    "        \n",
    "    scores = r_computer.get_scores(generate_contexts, raw_highlights)\n",
    "    rouge_1.append(scores['rouge-1']['f'])\n",
    "    rouge_2.append(scores['rouge-2']['f'])\n",
    "    rouge_l.append(scores['rouge-l']['f'])"
   ]
  },
  {
   "cell_type": "code",
   "execution_count": 140,
   "metadata": {},
   "outputs": [
    {
     "name": "stdout",
     "output_type": "stream",
     "text": [
      "0.20162738575411265\n",
      "0.053923577833063854\n",
      "0.1784105552528071\n"
     ]
    }
   ],
   "source": [
    "import numpy as np\n",
    "\n",
    "print(np.mean(np.array(rouge_1)))\n",
    "print(np.mean(np.array(rouge_2)))\n",
    "print(np.mean(np.array(rouge_l)))"
   ]
  },
  {
   "cell_type": "code",
   "execution_count": null,
   "metadata": {},
   "outputs": [],
   "source": []
  }
 ],
 "metadata": {
  "kernelspec": {
   "display_name": "Python 3 (ipykernel)",
   "language": "python",
   "name": "python3"
  },
  "language_info": {
   "codemirror_mode": {
    "name": "ipython",
    "version": 3
   },
   "file_extension": ".py",
   "mimetype": "text/x-python",
   "name": "python",
   "nbconvert_exporter": "python",
   "pygments_lexer": "ipython3",
   "version": "3.9.13"
  }
 },
 "nbformat": 4,
 "nbformat_minor": 4
}
