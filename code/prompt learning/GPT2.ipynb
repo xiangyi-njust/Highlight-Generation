{
 "cells": [
  {
   "cell_type": "code",
   "execution_count": 1,
   "metadata": {},
   "outputs": [],
   "source": [
    "import pandas as pd\n",
    "\n",
    "filename = '../../data/BioPubSum/BioPubSumm_test_fill.xlsx'\n",
    "df = pd.read_excel(filename)\n",
    "abstracts = df['Abstract'].tolist()\n",
    "raw_highlights = df['New_Highlight'].tolist()"
   ]
  },
  {
   "cell_type": "code",
   "execution_count": 2,
   "metadata": {},
   "outputs": [],
   "source": [
    "import torch\n",
    "import torch.nn\n",
    "from transformers import AutoTokenizer, GPT2LMHeadModel\n",
    "import rouge\n",
    "\n",
    "r_computer = rouge.Rouge(metrics=['rouge-n', 'rouge-l'], limit_length=False, max_n=2, alpha=0.5, stemming=False)\n",
    "\n",
    "checkpoints = [\n",
    "    'gpt2'\n",
    "]\n",
    "tokenizer = AutoTokenizer.from_pretrained(checkpoints[0])\n",
    "model = GPT2LMHeadModel.from_pretrained(checkpoints[0])"
   ]
  },
  {
   "cell_type": "code",
   "execution_count": 3,
   "metadata": {},
   "outputs": [],
   "source": [
    "# when inference, padding_side set left\n",
    "# when training, padding_side set right\n",
    "tokenizer.pad_token = tokenizer.eos_token\n",
    "tokenizer.padding_side = 'left'\n",
    "\n",
    "device = 'cuda:0' if torch.cuda.is_available() else 'cpu'\n",
    "model = model.to(device)"
   ]
  },
  {
   "cell_type": "code",
   "execution_count": 4,
   "metadata": {},
   "outputs": [],
   "source": [
    "task_prefixs = [\n",
    "    'Summarize: ',\n",
    "    'Summarize the higlight: ',\n",
    "    'Summarize the mainly work: ',\n",
    "    'Extract the highlight: ',\n",
    "    'Extract the mainly work: ',\n",
    "]"
   ]
  },
  {
   "cell_type": "code",
   "execution_count": 5,
   "metadata": {},
   "outputs": [],
   "source": [
    "import torch\n",
    "from torch.utils.data import Dataset, DataLoader\n",
    "\n",
    "class MyDataset(Dataset):\n",
    "    def __init__(self, inputs):\n",
    "        self.inputs = inputs\n",
    "\n",
    "    def __len__(self):\n",
    "        return self.inputs['input_ids'].shape[0]\n",
    "\n",
    "    def __getitem__(self, idx):\n",
    "        return self.inputs['input_ids'][idx], self.inputs['attention_mask'][idx]"
   ]
  },
  {
   "cell_type": "markdown",
   "metadata": {},
   "source": [
    "#### generate"
   ]
  },
  {
   "cell_type": "code",
   "execution_count": 6,
   "metadata": {},
   "outputs": [],
   "source": [
    "task_prefix = task_prefixs[2]\n",
    "texts = [task_prefix + abstract for abstract in abstracts]\n",
    "\n",
    "inputs = tokenizer(texts, padding=True, truncation=True, max_length=512, return_tensors='pt')"
   ]
  },
  {
   "cell_type": "code",
   "execution_count": 7,
   "metadata": {},
   "outputs": [],
   "source": [
    "infer_data = MyDataset(inputs)\n",
    "infer_dataloader = DataLoader(infer_data, batch_size=8)"
   ]
  },
  {
   "cell_type": "code",
   "execution_count": null,
   "metadata": {},
   "outputs": [],
   "source": [
    "from tqdm import tqdm\n",
    "\n",
    "epochs = 4\n",
    "rouge_1, rouge_2, rouge_l = [], [], []\n",
    "\n",
    "for epoch in range(epochs):\n",
    "    generate_contexts = []\n",
    "    for i, inputs in enumerate(tqdm(infer_dataloader)):\n",
    "        input_ids, attention_mask = inputs\n",
    "        output_ids = model.generate(\n",
    "            input_ids = input_ids.to(device),\n",
    "            attention_mask = attention_mask.to(device),\n",
    "            do_sample=True,\n",
    "            top_k=100,\n",
    "            top_p=0.92,\n",
    "            temperature=0.9,\n",
    "            repetition_penalty=1.5,\n",
    "            max_new_tokens=100,\n",
    "            pad_token_id = tokenizer.eos_token_id\n",
    "        )\n",
    "\n",
    "        outputs = tokenizer.batch_decode(output_ids, skip_special_tokens=True)\n",
    "        generate_contexts.extend(outputs)\n",
    "        \n",
    "    scores = r_computer.get_scores(generate_contexts, raw_highlights)\n",
    "    rouge_1.append(scores['rouge-1']['f'])\n",
    "    rouge_2.append(scores['rouge-2']['f'])\n",
    "    rouge_l.append(scores['rouge-l']['f'])"
   ]
  },
  {
   "cell_type": "code",
   "execution_count": 27,
   "metadata": {},
   "outputs": [
    {
     "name": "stdout",
     "output_type": "stream",
     "text": [
      "0.21835580584029676\n",
      "0.09855973700910847\n",
      "0.18294217874379967\n"
     ]
    }
   ],
   "source": [
    "import numpy as np\n",
    "\n",
    "print(np.mean(np.array(rouge_1)))\n",
    "print(np.mean(np.array(rouge_2)))\n",
    "print(np.mean(np.array(rouge_l)))"
   ]
  },
  {
   "attachments": {},
   "cell_type": "markdown",
   "metadata": {},
   "source": [
    "#### prompt learning"
   ]
  },
  {
   "cell_type": "code",
   "execution_count": 12,
   "metadata": {},
   "outputs": [],
   "source": [
    "new_contents = [content + prompt for content in contents]\n",
    "\n",
    "tokenizer.pad_token = tokenizer.eos_token\n",
    "tokenizer.padding_side = 'left'\n",
    "\n",
    "inputs = tokenizer.batch_encode_plus(new_contents, return_tensors='pt', padding=True)"
   ]
  },
  {
   "cell_type": "code",
   "execution_count": 14,
   "metadata": {},
   "outputs": [],
   "source": [
    "generate_ids = model.generate(\n",
    "    input_ids = inputs['input_ids'].to(device),\n",
    "    attention_mask = inputs['attention_mask'].to(device),\n",
    "    do_sample=True,\n",
    "    top_k=100,\n",
    "    top_p=0.92,\n",
    "    repetition_penalty=1.5,\n",
    "    max_new_tokens=100,\n",
    "    early_stopping=True,\n",
    "    pad_token_id = tokenizer.eos_token_id\n",
    ")"
   ]
  },
  {
   "cell_type": "code",
   "execution_count": 15,
   "metadata": {},
   "outputs": [
    {
     "data": {
      "text/plain": [
       "torch.Size([65, 658])"
      ]
     },
     "execution_count": 15,
     "metadata": {},
     "output_type": "execute_result"
    }
   ],
   "source": [
    "generate_ids.shape"
   ]
  },
  {
   "cell_type": "code",
   "execution_count": null,
   "metadata": {},
   "outputs": [],
   "source": [
    "torch.where(generate_ids[0]==tokenizer.eos_token_id)"
   ]
  },
  {
   "cell_type": "code",
   "execution_count": 22,
   "metadata": {},
   "outputs": [],
   "source": [
    "generate_texts = []\n",
    "\n",
    "for i in range(generate_ids.shape[0]):\n",
    "    id = generate_ids[i]\n",
    "    generate_texts.append(tokenizer.decode(id[-100:], skip_special_tokens=True))"
   ]
  }
 ],
 "metadata": {
  "kernelspec": {
   "display_name": "pytorch",
   "language": "python",
   "name": "python3"
  },
  "language_info": {
   "codemirror_mode": {
    "name": "ipython",
    "version": 3
   },
   "file_extension": ".py",
   "mimetype": "text/x-python",
   "name": "python",
   "nbconvert_exporter": "python",
   "pygments_lexer": "ipython3",
   "version": "3.9.13"
  },
  "orig_nbformat": 4
 },
 "nbformat": 4,
 "nbformat_minor": 2
}
