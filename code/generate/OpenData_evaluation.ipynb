{
 "cells": [
  {
   "cell_type": "code",
   "execution_count": 1,
   "metadata": {},
   "outputs": [],
   "source": [
    "from datasets import load_metric\n",
    "import evaluate\n",
    "import pandas as pd"
   ]
  },
  {
   "cell_type": "code",
   "execution_count": 2,
   "metadata": {},
   "outputs": [
    {
     "name": "stderr",
     "output_type": "stream",
     "text": [
      "C:\\Users\\29494\\AppData\\Local\\Temp\\ipykernel_37884\\1593946340.py:1: FutureWarning: load_metric is deprecated and will be removed in the next major version of datasets. Use 'evaluate.load' instead, from the new library 🤗 Evaluate: https://huggingface.co/docs/evaluate\n",
      "  metric = load_metric('rouge')\n"
     ]
    }
   ],
   "source": [
    "metric = load_metric('rouge')\n",
    "rouge = evaluate.load('rouge')"
   ]
  },
  {
   "cell_type": "markdown",
   "metadata": {},
   "source": [
    "### huggingface evaluation"
   ]
  },
  {
   "cell_type": "markdown",
   "metadata": {},
   "source": [
    "### py_rouge"
   ]
  },
  {
   "cell_type": "code",
   "execution_count": 1,
   "metadata": {},
   "outputs": [],
   "source": [
    "import rouge\n",
    "import pandas as pd\n",
    "\n",
    "r_compute = rouge.Rouge(metrics=['rouge-n', 'rouge-l'], limit_length=False, max_n=2, alpha=0.5, stemming=False)"
   ]
  },
  {
   "cell_type": "code",
   "execution_count": 2,
   "metadata": {},
   "outputs": [],
   "source": [
    "def getScore(filename):\n",
    "    df = pd.read_excel(filename)\n",
    "\n",
    "    generated_highlights = df['generate'].tolist()\n",
    "    highlights = df['New_Highlight'].tolist()\n",
    "\n",
    "    scores = r_compute.get_scores(generated_highlights, highlights)\n",
    "    print(scores)"
   ]
  },
  {
   "cell_type": "markdown",
   "metadata": {},
   "source": [
    "#### BioPubSum"
   ]
  },
  {
   "cell_type": "markdown",
   "metadata": {},
   "source": [
    "##### template_differ"
   ]
  },
  {
   "cell_type": "code",
   "execution_count": 21,
   "metadata": {},
   "outputs": [
    {
     "name": "stdout",
     "output_type": "stream",
     "text": [
      "{'rouge-1': {'f': 0.2505148188350712, 'p': 0.16033727304355802, 'r': 0.66885313851648}, 'rouge-2': {'f': 0.10261629986742768, 'p': 0.06530523142720032, 'r': 0.27804330301180696}, 'rouge-l': {'f': 0.22514864337674592, 'p': 0.14376115535691897, 'r': 0.6049587290679463}}\n"
     ]
    }
   ],
   "source": [
    "getScore('new_prompt/abstract_(1)_bio.xlsx')"
   ]
  },
  {
   "cell_type": "code",
   "execution_count": 3,
   "metadata": {},
   "outputs": [
    {
     "name": "stdout",
     "output_type": "stream",
     "text": [
      "{'rouge-2': {'f': 0.12807661825493094, 'p': 0.09171982973996126, 'r': 0.23265774408303497}, 'rouge-1': {'f': 0.3249709911787833, 'p': 0.23304496995311452, 'r': 0.5874773841224932}, 'rouge-l': {'f': 0.2986482398061131, 'p': 0.21406190197771963, 'r': 0.5402523469454301}}\n"
     ]
    }
   ],
   "source": [
    "getScore('new_prompt/abstract_(2)_bio.xlsx')"
   ]
  },
  {
   "cell_type": "code",
   "execution_count": 22,
   "metadata": {},
   "outputs": [
    {
     "name": "stdout",
     "output_type": "stream",
     "text": [
      "{'rouge-1': {'f': 0.3761427989857492, 'p': 0.3121824662870205, 'r': 0.5227820264224564}, 'rouge-2': {'f': 0.1529505545408047, 'p': 0.12692683726649293, 'r': 0.21324144889751628}, 'rouge-l': {'f': 0.34920412000895074, 'p': 0.28964321319421626, 'r': 0.48584848263881925}}\n"
     ]
    }
   ],
   "source": [
    "getScore('new_prompt/abstract_(4)_bio.xlsx')"
   ]
  },
  {
   "cell_type": "code",
   "execution_count": null,
   "metadata": {},
   "outputs": [],
   "source": [
    "getScore('new_prompt/abstract_(3)_bio.xlsx')"
   ]
  },
  {
   "cell_type": "code",
   "execution_count": null,
   "metadata": {},
   "outputs": [],
   "source": [
    "getScore('new_prompt/abstract_(5)_bio.xlsx')"
   ]
  },
  {
   "cell_type": "markdown",
   "metadata": {},
   "source": [
    "##### raw_prompt"
   ]
  },
  {
   "cell_type": "code",
   "execution_count": 3,
   "metadata": {},
   "outputs": [
    {
     "name": "stdout",
     "output_type": "stream",
     "text": [
      "{'rouge-1': {'f': 0.33470204724874963, 'p': 0.2579226474553703, 'r': 0.5300951299355544}, 'rouge-2': {'f': 0.12143408093988016, 'p': 0.0929717732789888, 'r': 0.1947985491850037}, 'rouge-l': {'f': 0.2803564782005924, 'p': 0.21594533090447152, 'r': 0.44447998438761155}}\n"
     ]
    }
   ],
   "source": [
    "filename = 'raw_prompt/abstract_(1)_bio.xlsx'\n",
    "getScore(filename)"
   ]
  },
  {
   "cell_type": "code",
   "execution_count": 4,
   "metadata": {},
   "outputs": [
    {
     "name": "stdout",
     "output_type": "stream",
     "text": [
      "{'rouge-1': {'f': 0.34935213587170083, 'p': 0.28015491473314097, 'r': 0.5126676822263249}, 'rouge-2': {'f': 0.12810429668390413, 'p': 0.10221993077936373, 'r': 0.19003255990739484}, 'rouge-l': {'f': 0.2943241841777851, 'p': 0.23594169206585622, 'r': 0.4322001147390801}}\n"
     ]
    }
   ],
   "source": [
    "filename = 'raw_prompt/abstract_(2)_bio.xlsx'\n",
    "getScore(filename)"
   ]
  },
  {
   "cell_type": "code",
   "execution_count": 5,
   "metadata": {},
   "outputs": [
    {
     "name": "stdout",
     "output_type": "stream",
     "text": [
      "{'rouge-1': {'f': 0.3228459446579277, 'p': 0.2377297648793709, 'r': 0.5634309358175369}, 'rouge-2': {'f': 0.12131414533128491, 'p': 0.08866700811607713, 'r': 0.21568428439992937}, 'rouge-l': {'f': 0.2721615904832555, 'p': 0.20009255898191472, 'r': 0.4766421917374781}}\n"
     ]
    }
   ],
   "source": [
    "filename = 'raw_prompt/abstract_(3)_bio.xlsx'\n",
    "getScore(filename)"
   ]
  },
  {
   "cell_type": "code",
   "execution_count": 6,
   "metadata": {},
   "outputs": [
    {
     "name": "stdout",
     "output_type": "stream",
     "text": [
      "{'rouge-1': {'f': 0.34049384008096173, 'p': 0.3554622449899051, 'r': 0.4074557625068451}, 'rouge-2': {'f': 0.13243145481893495, 'p': 0.13935911590379843, 'r': 0.15994053008480538}, 'rouge-l': {'f': 0.2931492075273386, 'p': 0.30772192693931105, 'r': 0.3492950169201474}}\n"
     ]
    }
   ],
   "source": [
    "filename = 'raw_prompt/abstract_(4)_bio.xlsx'\n",
    "getScore(filename)"
   ]
  },
  {
   "cell_type": "code",
   "execution_count": 7,
   "metadata": {},
   "outputs": [
    {
     "name": "stdout",
     "output_type": "stream",
     "text": [
      "{'rouge-1': {'f': 0.32549875420294383, 'p': 0.24308319240992166, 'r': 0.5557632591485572}, 'rouge-2': {'f': 0.12405409511968248, 'p': 0.0917474837926414, 'r': 0.21607415617034334}, 'rouge-l': {'f': 0.2768614810089177, 'p': 0.2066390000587101, 'r': 0.47355789910681584}}\n"
     ]
    }
   ],
   "source": [
    "filename = 'raw_prompt/abstract_(5)_bio.xlsx'\n",
    "getScore(filename)"
   ]
  },
  {
   "cell_type": "code",
   "execution_count": 3,
   "metadata": {},
   "outputs": [
    {
     "name": "stdout",
     "output_type": "stream",
     "text": [
      "{'rouge-2': {'f': 0.12381807503045214, 'p': 0.09900497126201263, 'r': 0.18786597507133726}, 'rouge-1': {'f': 0.3376727330175968, 'p': 0.2724393153621666, 'r': 0.5048857167032202}, 'rouge-l': {'f': 0.28536054730633414, 'p': 0.23025902004884186, 'r': 0.4267839142551532}}\n"
     ]
    }
   ],
   "source": [
    "filename = 'raw_prompt/abstract_(5)_bio_filter.xlsx'\n",
    "getScore(filename)"
   ]
  },
  {
   "cell_type": "markdown",
   "metadata": {},
   "source": [
    "##### basic experiment"
   ]
  },
  {
   "cell_type": "code",
   "execution_count": 3,
   "metadata": {},
   "outputs": [
    {
     "data": {
      "text/plain": [
       "{'rouge-1': {'f': 0.3761427989857492,\n",
       "  'p': 0.3121824662870205,\n",
       "  'r': 0.5227820264224564},\n",
       " 'rouge-2': {'f': 0.1529505545408047,\n",
       "  'p': 0.12692683726649293,\n",
       "  'r': 0.21324144889751628},\n",
       " 'rouge-l': {'f': 0.34920412000895074,\n",
       "  'p': 0.28964321319421626,\n",
       "  'r': 0.48584848263881925}}"
      ]
     },
     "execution_count": 3,
     "metadata": {},
     "output_type": "execute_result"
    }
   ],
   "source": [
    "df = pd.read_excel('opendata_result/abstract_(4)_bio.xlsx')\n",
    "\n",
    "generated_highlights = df['generate'].tolist()\n",
    "highlights = df['New_Highlight'].tolist()\n",
    "\n",
    "scores = r_compute.get_scores(generated_highlights, highlights)\n",
    "scores"
   ]
  },
  {
   "cell_type": "code",
   "execution_count": 2,
   "metadata": {},
   "outputs": [
    {
     "data": {
      "text/plain": [
       "{'rouge-1': {'f': 0.3911779007021816,\n",
       "  'p': 0.34788398529124515,\n",
       "  'r': 0.48159779617440585},\n",
       " 'rouge-2': {'f': 0.15747114283147226,\n",
       "  'p': 0.14039903568854434,\n",
       "  'r': 0.1933813145824214},\n",
       " 'rouge-l': {'f': 0.36216173144876407,\n",
       "  'p': 0.32196424745502605,\n",
       "  'r': 0.44598131135177776}}"
      ]
     },
     "execution_count": 2,
     "metadata": {},
     "output_type": "execute_result"
    }
   ],
   "source": [
    "df = pd.read_excel('opendata_result/abstract_(4)_bio_1shot.xlsx')\n",
    "\n",
    "generated_highlights = df['generate'].tolist()\n",
    "highlights = df['New_Highlight'].tolist()\n",
    "\n",
    "scores = r_compute.get_scores(generated_highlights, highlights)\n",
    "scores"
   ]
  },
  {
   "cell_type": "code",
   "execution_count": 6,
   "metadata": {},
   "outputs": [
    {
     "name": "stdout",
     "output_type": "stream",
     "text": [
      "{'rouge-2': {'f': 0.15478242494844263, 'p': 0.14073467161821446, 'r': 0.18516828351147968}, 'rouge-1': {'f': 0.3903692094850378, 'p': 0.3544389734869373, 'r': 0.4674584507955152}, 'rouge-l': {'f': 0.36156312893133175, 'p': 0.32818714297227775, 'r': 0.43301764769999646}}\n"
     ]
    }
   ],
   "source": [
    "filename = 'opendata_result/abstract_(4)_bio_2shot.xlsx'\n",
    "getScore(filename)"
   ]
  },
  {
   "cell_type": "code",
   "execution_count": 5,
   "metadata": {},
   "outputs": [
    {
     "name": "stdout",
     "output_type": "stream",
     "text": [
      "{'rouge-2': {'f': 0.1559956547142708, 'p': 0.14424440520273238, 'r': 0.18338589132077554}, 'rouge-1': {'f': 0.3920486729483406, 'p': 0.36136954777840824, 'r': 0.4623570034025287}, 'rouge-l': {'f': 0.3633680029242329, 'p': 0.3347717730865312, 'r': 0.4287254110534507}}\n"
     ]
    }
   ],
   "source": [
    "filename = 'opendata_result/abstract_(4)_bio_4shot.xlsx'\n",
    "getScore(filename)"
   ]
  },
  {
   "cell_type": "code",
   "execution_count": 3,
   "metadata": {},
   "outputs": [
    {
     "name": "stdout",
     "output_type": "stream",
     "text": [
      "{'rouge-2': {'f': 0.15570005416195493, 'p': 0.14518326890826613, 'r': 0.1821126593381297}, 'rouge-1': {'f': 0.39115935577110655, 'p': 0.3635116165172309, 'r': 0.45873042418003734}, 'rouge-l': {'f': 0.3624475818031828, 'p': 0.3366666272360498, 'r': 0.4252243677789462}}\n"
     ]
    }
   ],
   "source": [
    "filename = 'opendata_result/demonstration/abstract_(4)_bio_6shot.xlsx'\n",
    "getScore(filename)"
   ]
  },
  {
   "cell_type": "code",
   "execution_count": 4,
   "metadata": {},
   "outputs": [
    {
     "name": "stdout",
     "output_type": "stream",
     "text": [
      "{'rouge-2': {'f': 0.1561506219849521, 'p': 0.14843101769854, 'r': 0.1798346880524461}, 'rouge-1': {'f': 0.39104805042611707, 'p': 0.3699660056628194, 'r': 0.4514452432379971}, 'rouge-l': {'f': 0.3630134336068828, 'p': 0.3432082265756873, 'r': 0.4193014446790683}}\n"
     ]
    }
   ],
   "source": [
    "filename = 'opendata_result/demonstration/abstract_(4)_bio_8shot.xlsx'\n",
    "getScore(filename)"
   ]
  },
  {
   "cell_type": "markdown",
   "metadata": {},
   "source": [
    "#### AIPubSumm"
   ]
  },
  {
   "cell_type": "markdown",
   "metadata": {},
   "source": [
    "##### raw prompt"
   ]
  },
  {
   "cell_type": "code",
   "execution_count": 4,
   "metadata": {},
   "outputs": [
    {
     "name": "stdout",
     "output_type": "stream",
     "text": [
      "{'rouge-2': {'f': 0.11643965575423675, 'p': 0.09476122078551615, 'r': 0.16357554647047626}, 'rouge-1': {'f': 0.3402711527488934, 'p': 0.27538754806167454, 'r': 0.48493822255961894}, 'rouge-l': {'f': 0.2791712692025455, 'p': 0.22673626139340713, 'r': 0.3960760493271882}}\n"
     ]
    }
   ],
   "source": [
    "filename = 'raw_prompt/abstract_(1)_ai.xlsx'\n",
    "getScore(filename)"
   ]
  },
  {
   "cell_type": "code",
   "execution_count": 5,
   "metadata": {},
   "outputs": [
    {
     "name": "stdout",
     "output_type": "stream",
     "text": [
      "{'rouge-2': {'f': 0.11751907825127243, 'p': 0.09851140454738236, 'r': 0.15718945106032264}, 'rouge-1': {'f': 0.33779305362237866, 'p': 0.2828037873193801, 'r': 0.4576484465808118}, 'rouge-l': {'f': 0.28359013388778403, 'p': 0.23786801009328454, 'r': 0.382922550212604}}\n"
     ]
    }
   ],
   "source": [
    "filename = 'raw_prompt/abstract_(2)_ai.xlsx'\n",
    "getScore(filename)"
   ]
  },
  {
   "cell_type": "code",
   "execution_count": 6,
   "metadata": {},
   "outputs": [
    {
     "name": "stdout",
     "output_type": "stream",
     "text": [
      "{'rouge-2': {'f': 0.11751907825127243, 'p': 0.09851140454738236, 'r': 0.15718945106032264}, 'rouge-1': {'f': 0.33779305362237866, 'p': 0.2828037873193801, 'r': 0.4576484465808118}, 'rouge-l': {'f': 0.28359013388778403, 'p': 0.23786801009328454, 'r': 0.382922550212604}}\n"
     ]
    }
   ],
   "source": [
    "filename = 'raw_prompt/abstract_(3)_ai.xlsx'\n",
    "getScore(filename)"
   ]
  },
  {
   "cell_type": "code",
   "execution_count": 7,
   "metadata": {},
   "outputs": [
    {
     "name": "stdout",
     "output_type": "stream",
     "text": [
      "{'rouge-2': {'f': 0.1252047641203229, 'p': 0.12198321843476079, 'r': 0.1607784061978349}, 'rouge-1': {'f': 0.33800496118512735, 'p': 0.34132657712156855, 'r': 0.418933135698932}, 'rouge-l': {'f': 0.286206214620614, 'p': 0.2916538427015513, 'r': 0.35281884090179344}}\n"
     ]
    }
   ],
   "source": [
    "filename = 'raw_prompt/abstract_(4)_ai.xlsx'\n",
    "getScore(filename)"
   ]
  },
  {
   "cell_type": "code",
   "execution_count": 4,
   "metadata": {},
   "outputs": [
    {
     "name": "stdout",
     "output_type": "stream",
     "text": [
      "{'rouge-2': {'f': 0.12583006743296854, 'p': 0.0990398573446605, 'r': 0.19350452487990602}, 'rouge-1': {'f': 0.34241235352726423, 'p': 0.2710629381846843, 'r': 0.5200923361492159}, 'rouge-l': {'f': 0.2854916829855778, 'p': 0.225671759669124, 'r': 0.4355398259260901}}\n"
     ]
    }
   ],
   "source": [
    "filename = 'raw_prompt/abstract_(5)_ai.xlsx'\n",
    "getScore(filename)"
   ]
  },
  {
   "cell_type": "code",
   "execution_count": 5,
   "metadata": {},
   "outputs": [
    {
     "name": "stdout",
     "output_type": "stream",
     "text": [
      "{'rouge-2': {'f': 0.11693951656870015, 'p': 0.08609176105598197, 'r': 0.20330348521943276}, 'rouge-1': {'f': 0.31714536596908344, 'p': 0.23729833435595699, 'r': 0.5359664672498583}, 'rouge-l': {'f': 0.2688828201400499, 'p': 0.20045162393000127, 'r': 0.45653019552698365}}\n"
     ]
    }
   ],
   "source": [
    "filename = 'raw_prompt/abstract_(5)_ai_aug.xlsx'\n",
    "getScore(filename)"
   ]
  },
  {
   "cell_type": "code",
   "execution_count": 3,
   "metadata": {},
   "outputs": [
    {
     "name": "stdout",
     "output_type": "stream",
     "text": [
      "{'rouge-2': {'f': 0.11943094712019438, 'p': 0.09122178264682418, 'r': 0.20042005063813847}, 'rouge-1': {'f': 0.3196652591231999, 'p': 0.24836621036526002, 'r': 0.5188713191152755}, 'rouge-l': {'f': 0.2721587610820343, 'p': 0.2110560999812304, 'r': 0.44251553344876715}}\n"
     ]
    }
   ],
   "source": [
    "filename = 'raw_prompt/abstract_(5)_ai_aug_copy.xlsx'\n",
    "getScore(filename)"
   ]
  },
  {
   "cell_type": "markdown",
   "metadata": {},
   "source": [
    "##### basic experiment"
   ]
  },
  {
   "cell_type": "code",
   "execution_count": 4,
   "metadata": {},
   "outputs": [
    {
     "name": "stdout",
     "output_type": "stream",
     "text": [
      "{'rouge-2': {'f': 0.148419505229824, 'p': 0.13864764925563205, 'r': 0.17350026067779015}, 'rouge-1': {'f': 0.3789136602196957, 'p': 0.354447354115092, 'r': 0.4389969143120982}, 'rouge-l': {'f': 0.35562360821245453, 'p': 0.3322442548905526, 'r': 0.4131074211534031}}\n"
     ]
    }
   ],
   "source": [
    "getScore('opendata_result/demonstration/number/abstract_(4)_ai_16shot_pseudo.xlsx')"
   ]
  },
  {
   "cell_type": "code",
   "execution_count": 11,
   "metadata": {},
   "outputs": [
    {
     "data": {
      "text/plain": [
       "{'rouge-2': {'f': 0.14789918473615327,\n",
       "  'p': 0.1421714264187764,\n",
       "  'r': 0.16638934920169193},\n",
       " 'rouge-1': {'f': 0.3812181942862446,\n",
       "  'p': 0.36665924638511577,\n",
       "  'r': 0.4279717062119116},\n",
       " 'rouge-l': {'f': 0.3568855021643823,\n",
       "  'p': 0.3430232212649827,\n",
       "  'r': 0.4009105684560848}}"
      ]
     },
     "execution_count": 11,
     "metadata": {},
     "output_type": "execute_result"
    }
   ],
   "source": [
    "df = pd.read_excel('opendata_result/abstract_(4)_ai_1shot.xlsx')\n",
    "\n",
    "generated_highlights = df['generate'].tolist()[:45] + df['generate'].tolist()[46:]\n",
    "highlights = df['New_Highlight'].tolist()[:45] + df['New_Highlight'].tolist()[46:]\n",
    "\n",
    "scores = r_compute.get_scores(generated_highlights, highlights)\n",
    "scores"
   ]
  },
  {
   "cell_type": "code",
   "execution_count": 8,
   "metadata": {},
   "outputs": [
    {
     "data": {
      "text/plain": [
       "{'rouge-2': {'f': 0.12686489895539688,\n",
       "  'p': 0.10660913043943238,\n",
       "  'r': 0.17260035044894992},\n",
       " 'rouge-1': {'f': 0.34434165807929806,\n",
       "  'p': 0.2890662390468952,\n",
       "  'r': 0.4737998580491616},\n",
       " 'rouge-l': {'f': 0.3212976378844256,\n",
       "  'p': 0.2693442591970497,\n",
       "  'r': 0.44271874381830334}}"
      ]
     },
     "execution_count": 8,
     "metadata": {},
     "output_type": "execute_result"
    }
   ],
   "source": [
    "df = pd.read_excel('opendata_result/abstract_(4)_ai.xlsx')\n",
    "\n",
    "generated_highlights = df['generate'].tolist()[:45] + df['generate'].tolist()[46:]\n",
    "highlights = df['New_Highlight'].tolist()[:45] + df['New_Highlight'].tolist()[46:]\n",
    "\n",
    "scores = r_compute.get_scores(generated_highlights, highlights)\n",
    "scores"
   ]
  },
  {
   "cell_type": "code",
   "execution_count": 12,
   "metadata": {},
   "outputs": [
    {
     "data": {
      "text/plain": [
       "{'rouge-2': {'f': 0.1416957975964271,\n",
       "  'p': 0.13850515344499537,\n",
       "  'r': 0.155194184772939},\n",
       " 'rouge-1': {'f': 0.37352394329169447,\n",
       "  'p': 0.3645428706966049,\n",
       "  'r': 0.408474262944247},\n",
       " 'rouge-l': {'f': 0.351590778221799,\n",
       "  'p': 0.34251550099335226,\n",
       "  'r': 0.38548313125309175}}"
      ]
     },
     "execution_count": 12,
     "metadata": {},
     "output_type": "execute_result"
    }
   ],
   "source": [
    "df = pd.read_excel('opendata_result/abstract_(4)_ai_2shot.xlsx')\n",
    "\n",
    "generated_highlights = df['generate'].tolist()\n",
    "highlights = df['New_Highlight'].tolist()\n",
    "\n",
    "scores = r_compute.get_scores(generated_highlights, highlights)\n",
    "scores"
   ]
  },
  {
   "cell_type": "code",
   "execution_count": 13,
   "metadata": {},
   "outputs": [
    {
     "data": {
      "text/plain": [
       "{'rouge-2': {'f': 0.14186303423247495,\n",
       "  'p': 0.14020412877613503,\n",
       "  'r': 0.15284895632162918},\n",
       " 'rouge-1': {'f': 0.3758158878298538,\n",
       "  'p': 0.3710874927737346,\n",
       "  'r': 0.40545349758335514},\n",
       " 'rouge-l': {'f': 0.3527667882604786,\n",
       "  'p': 0.3483754875084001,\n",
       "  'r': 0.38058421993235014}}"
      ]
     },
     "execution_count": 13,
     "metadata": {},
     "output_type": "execute_result"
    }
   ],
   "source": [
    "df = pd.read_excel('opendata_result/abstract_(4)_ai_4shot.xlsx')\n",
    "\n",
    "generated_highlights = df['generate'].tolist()\n",
    "highlights = df['New_Highlight'].tolist()\n",
    "\n",
    "scores = r_compute.get_scores(generated_highlights, highlights)\n",
    "scores"
   ]
  },
  {
   "cell_type": "code",
   "execution_count": 3,
   "metadata": {},
   "outputs": [
    {
     "data": {
      "text/plain": [
       "{'rouge-2': {'f': 0.13815194493646263,\n",
       "  'p': 0.14513241083286496,\n",
       "  'r': 0.1439974785513419},\n",
       " 'rouge-1': {'f': 0.36562715735996976,\n",
       "  'p': 0.37888591595057586,\n",
       "  'r': 0.3832024496537332},\n",
       " 'rouge-l': {'f': 0.34623136108523084,\n",
       "  'p': 0.35861475154795774,\n",
       "  'r': 0.3635137508444275}}"
      ]
     },
     "execution_count": 3,
     "metadata": {},
     "output_type": "execute_result"
    }
   ],
   "source": [
    "df = pd.read_excel('opendata_result/demonstration/abstract_(4)_ai_8shot.xlsx')\n",
    "\n",
    "generated_highlights = df['generate'].tolist()\n",
    "highlights = df['New_Highlight'].tolist()\n",
    "\n",
    "scores = r_compute.get_scores(generated_highlights, highlights)\n",
    "scores"
   ]
  },
  {
   "cell_type": "code",
   "execution_count": 2,
   "metadata": {},
   "outputs": [
    {
     "data": {
      "text/plain": [
       "{'rouge-2': {'f': 0.14988373640371308,\n",
       "  'p': 0.14753447353486115,\n",
       "  'r': 0.16324691288483772},\n",
       " 'rouge-1': {'f': 0.37853241616100625,\n",
       "  'p': 0.37437368208489624,\n",
       "  'r': 0.4094479823771929},\n",
       " 'rouge-l': {'f': 0.3563950033610265,\n",
       "  'p': 0.3529662269411506,\n",
       "  'r': 0.3852075420684209}}"
      ]
     },
     "execution_count": 2,
     "metadata": {},
     "output_type": "execute_result"
    }
   ],
   "source": [
    "df = pd.read_excel('opendata_result/demonstration/abstract_(4)_ai_6shot.xlsx')\n",
    "\n",
    "generated_highlights = df['generate'].tolist()\n",
    "highlights = df['New_Highlight'].tolist()\n",
    "\n",
    "scores = r_compute.get_scores(generated_highlights, highlights)\n",
    "scores"
   ]
  },
  {
   "cell_type": "markdown",
   "metadata": {},
   "source": [
    "##### template difference"
   ]
  },
  {
   "cell_type": "code",
   "execution_count": 24,
   "metadata": {},
   "outputs": [
    {
     "name": "stdout",
     "output_type": "stream",
     "text": [
      "{'rouge-1': {'f': 0.24620351469519772, 'p': 0.16041271448836852, 'r': 0.617677952133851}, 'rouge-2': {'f': 0.08752185118596319, 'p': 0.05668321537659504, 'r': 0.22230747572561307}, 'rouge-l': {'f': 0.22272034119181217, 'p': 0.14482478576767566, 'r': 0.5633608248790979}}\n"
     ]
    }
   ],
   "source": [
    "getScore('new_prompt/abstract_(1)_ai.xlsx')"
   ]
  },
  {
   "cell_type": "code",
   "execution_count": 17,
   "metadata": {},
   "outputs": [
    {
     "name": "stdout",
     "output_type": "stream",
     "text": [
      "{'rouge-1': {'f': 0.30361134066956147, 'p': 0.22016684839481698, 'r': 0.5366364296554232}, 'rouge-2': {'f': 0.10831536946176046, 'p': 0.07811320168849038, 'r': 0.19232161264574268}, 'rouge-l': {'f': 0.28170162634425644, 'p': 0.20386357701263447, 'r': 0.49973764619924277}}\n"
     ]
    }
   ],
   "source": [
    "getScore('new_prompt/abstract_(2)_ai.xlsx')"
   ]
  },
  {
   "cell_type": "code",
   "execution_count": 18,
   "metadata": {},
   "outputs": [
    {
     "name": "stdout",
     "output_type": "stream",
     "text": [
      "{'rouge-1': {'f': 0.3425203149966985, 'p': 0.28823171518389945, 'r': 0.4644630950982398}, 'rouge-2': {'f': 0.1275142145662166, 'p': 0.10500722610598152, 'r': 0.177585979949504}, 'rouge-l': {'f': 0.29294435582784256, 'p': 0.24646514666615968, 'r': 0.39691829737963397}}\n"
     ]
    }
   ],
   "source": [
    "getScore('new_prompt/abstract_(3)_ai.xlsx')"
   ]
  },
  {
   "cell_type": "code",
   "execution_count": 19,
   "metadata": {},
   "outputs": [
    {
     "name": "stdout",
     "output_type": "stream",
     "text": [
      "{'rouge-1': {'f': 0.3406863721009019, 'p': 0.2861158357680257, 'r': 0.4683428354065434}, 'rouge-2': {'f': 0.12494270351667874, 'p': 0.10499384058428946, 'r': 0.1699851936239658}, 'rouge-l': {'f': 0.3179915037271639, 'p': 0.26669267379469297, 'r': 0.43773264714888}}\n"
     ]
    }
   ],
   "source": [
    "getScore('new_prompt/abstract_(4)_ai.xlsx')"
   ]
  },
  {
   "cell_type": "code",
   "execution_count": 20,
   "metadata": {},
   "outputs": [
    {
     "name": "stdout",
     "output_type": "stream",
     "text": [
      "{'rouge-1': {'f': 0.3264098581752622, 'p': 0.2598547341322314, 'r': 0.5009253641385755}, 'rouge-2': {'f': 0.12268413532955909, 'p': 0.09758014435281459, 'r': 0.18897463292933617}, 'rouge-l': {'f': 0.3092108318030338, 'p': 0.24611410052577437, 'r': 0.47463407494154536}}\n"
     ]
    }
   ],
   "source": [
    "getScore('new_prompt/abstract_(5)_ai.xlsx')"
   ]
  },
  {
   "cell_type": "markdown",
   "metadata": {},
   "source": [
    "##### demonstration similarity"
   ]
  },
  {
   "cell_type": "code",
   "execution_count": 10,
   "metadata": {},
   "outputs": [
    {
     "name": "stdout",
     "output_type": "stream",
     "text": [
      "{'rouge-1': {'f': 0.36037359920444284, 'p': 0.3556330746898578, 'r': 0.3985769570675486}, 'rouge-2': {'f': 0.13720830067955567, 'p': 0.13517819269527734, 'r': 0.15081199474224302}, 'rouge-l': {'f': 0.3404336952943849, 'p': 0.3357418111498024, 'r': 0.3767450608420722}}\n"
     ]
    }
   ],
   "source": [
    "getScore('opendata_result/demonstration/similarity/abstract_(4)_ai_1shot_clostEmbedding.xlsx')"
   ]
  },
  {
   "cell_type": "code",
   "execution_count": 9,
   "metadata": {},
   "outputs": [
    {
     "name": "stdout",
     "output_type": "stream",
     "text": [
      "{'rouge-1': {'f': 0.35949839311953663, 'p': 0.3550687096197287, 'r': 0.3911718049753338}, 'rouge-2': {'f': 0.13862969276507717, 'p': 0.1372499913755693, 'r': 0.1507378397725578}, 'rouge-l': {'f': 0.3377872506712827, 'p': 0.33348880274565806, 'r': 0.3678390289127857}}\n"
     ]
    }
   ],
   "source": [
    "getScore('opendata_result/demonstration/similarity/abstract_(4)_ai_2shot_clostEmbedding.xlsx')"
   ]
  },
  {
   "cell_type": "code",
   "execution_count": 7,
   "metadata": {},
   "outputs": [
    {
     "name": "stdout",
     "output_type": "stream",
     "text": [
      "{'rouge-1': {'f': 0.36323778806011103, 'p': 0.3768258519314603, 'r': 0.38465366341873275}, 'rouge-2': {'f': 0.1459310240290218, 'p': 0.15366902451486764, 'r': 0.15427953094562571}, 'rouge-l': {'f': 0.34326992881058366, 'p': 0.3564543252502519, 'r': 0.3634489165842869}}\n"
     ]
    }
   ],
   "source": [
    "getScore('opendata_result/demonstration/similarity/abstract_(4)_ai_4shot_clostEmbedding.xlsx')"
   ]
  },
  {
   "cell_type": "code",
   "execution_count": 4,
   "metadata": {},
   "outputs": [
    {
     "name": "stdout",
     "output_type": "stream",
     "text": [
      "{'rouge-2': {'f': 0.14696929206533074, 'p': 0.1468195356181173, 'r': 0.15632176599303854}, 'rouge-1': {'f': 0.3768529134120292, 'p': 0.37551603385545307, 'r': 0.40273801377263363}, 'rouge-l': {'f': 0.35739040059154775, 'p': 0.35655415636777993, 'r': 0.3814333428420228}}\n"
     ]
    }
   ],
   "source": [
    "getScore('opendata_result/demonstration/similarity/abstract_(4)_ai_6shot_clostEmbedding.xlsx')"
   ]
  },
  {
   "cell_type": "code",
   "execution_count": 7,
   "metadata": {},
   "outputs": [
    {
     "name": "stdout",
     "output_type": "stream",
     "text": [
      "{'rouge-2': {'f': 0.1394575534378078, 'p': 0.13388081757742734, 'r': 0.15576067596663787}, 'rouge-1': {'f': 0.37609394035448535, 'p': 0.3577653209380881, 'r': 0.42277650285647445}, 'rouge-l': {'f': 0.3498511126486766, 'p': 0.3330553736462594, 'r': 0.39327957992114976}}\n"
     ]
    }
   ],
   "source": [
    "getScore('opendata_result/demonstration/similarity/abstract_(4)_ai_1shot_clostRouge.xlsx')"
   ]
  },
  {
   "cell_type": "code",
   "execution_count": 8,
   "metadata": {},
   "outputs": [
    {
     "name": "stdout",
     "output_type": "stream",
     "text": [
      "{'rouge-2': {'f': 0.1510083780232989, 'p': 0.14536142969728072, 'r': 0.1677016470752956}, 'rouge-1': {'f': 0.3823911938113439, 'p': 0.37065068712002575, 'r': 0.4230111848705896}, 'rouge-l': {'f': 0.3571114489498576, 'p': 0.3468039258950265, 'r': 0.39477282969200767}}\n"
     ]
    }
   ],
   "source": [
    "getScore('opendata_result/demonstration/similarity/abstract_(4)_ai_2shot_clostRouge.xlsx')"
   ]
  },
  {
   "cell_type": "code",
   "execution_count": 4,
   "metadata": {},
   "outputs": [
    {
     "name": "stdout",
     "output_type": "stream",
     "text": [
      "{'rouge-2': {'f': 0.1433341218974339, 'p': 0.14433235066819333, 'r': 0.1512461128779017}, 'rouge-1': {'f': 0.3697540680680634, 'p': 0.37244155997686257, 'r': 0.39180069320135685}, 'rouge-l': {'f': 0.3467135011068195, 'p': 0.34938064422973336, 'r': 0.36738189961917855}}\n"
     ]
    }
   ],
   "source": [
    "getScore('opendata_result/demonstration/similarity/abstract_(4)_ai_4shot_clostRouge.xlsx')"
   ]
  },
  {
   "cell_type": "code",
   "execution_count": 3,
   "metadata": {},
   "outputs": [
    {
     "name": "stdout",
     "output_type": "stream",
     "text": [
      "{'rouge-1': {'f': 0.3719747197864205, 'p': 0.3732281128527396, 'r': 0.39117872623328076}, 'rouge-2': {'f': 0.1411516307776457, 'p': 0.14244082104861264, 'r': 0.14836405162758945}, 'rouge-l': {'f': 0.3496471544610247, 'p': 0.3503232722064754, 'r': 0.36832695343567}}\n"
     ]
    }
   ],
   "source": [
    "getScore('opendata_result/demonstration/similarity/abstract_(4)_ai_4shot_clostRouge_reverse.xlsx')"
   ]
  },
  {
   "cell_type": "code",
   "execution_count": 6,
   "metadata": {},
   "outputs": [
    {
     "name": "stdout",
     "output_type": "stream",
     "text": [
      "{'rouge-2': {'f': 0.13920970684291403, 'p': 0.13893834614372214, 'r': 0.1483019505824995}, 'rouge-1': {'f': 0.3718783237482936, 'p': 0.37155173239202494, 'r': 0.3958099828106789}, 'rouge-l': {'f': 0.3464289672251515, 'p': 0.3466770628499651, 'r': 0.3681557475845277}}\n"
     ]
    }
   ],
   "source": [
    "getScore('opendata_result/demonstration/similarity/abstract_(4)_ai_6shot_clostRouge.xlsx')"
   ]
  },
  {
   "cell_type": "code",
   "execution_count": 5,
   "metadata": {},
   "outputs": [
    {
     "name": "stdout",
     "output_type": "stream",
     "text": [
      "{'rouge-1': {'f': 0.3664812640978383, 'p': 0.3652873996900252, 'r': 0.3939840280208907}, 'rouge-2': {'f': 0.14019246004680322, 'p': 0.1406778304736294, 'r': 0.15066291515337624}, 'rouge-l': {'f': 0.34576463219795, 'p': 0.34518531310050365, 'r': 0.3709961741859198}}\n"
     ]
    }
   ],
   "source": [
    "getScore('opendata_result/demonstration/similarity/abstract_(4)_ai_6shot_clostRouge_reverse.xlsx')"
   ]
  },
  {
   "cell_type": "markdown",
   "metadata": {},
   "source": [
    "##### random average"
   ]
  },
  {
   "cell_type": "markdown",
   "metadata": {},
   "source": [
    "4-shot"
   ]
  },
  {
   "cell_type": "code",
   "execution_count": 4,
   "metadata": {},
   "outputs": [
    {
     "name": "stdout",
     "output_type": "stream",
     "text": [
      "{'rouge-1': {'f': 0.382330844792626, 'p': 0.38258485046024726, 'r': 0.4175678802926201}, 'rouge-2': {'f': 0.15544716076993767, 'p': 0.15627863762651384, 'r': 0.16975936506377132}, 'rouge-l': {'f': 0.36008143622030214, 'p': 0.3598852400952356, 'r': 0.3942644920424917}}\n"
     ]
    }
   ],
   "source": [
    "getScore('opendata_result/demonstration/random/abstract_(4)_ai_4shot_random1.xlsx')"
   ]
  },
  {
   "cell_type": "code",
   "execution_count": 5,
   "metadata": {},
   "outputs": [
    {
     "name": "stdout",
     "output_type": "stream",
     "text": [
      "{'rouge-1': {'f': 0.3669360731365866, 'p': 0.35532601917788037, 'r': 0.41461729678397785}, 'rouge-2': {'f': 0.14283029886987586, 'p': 0.1400365584912171, 'r': 0.15979661068305104}, 'rouge-l': {'f': 0.34372385309273756, 'p': 0.33318040153462014, 'r': 0.3879956539419538}}\n"
     ]
    }
   ],
   "source": [
    "getScore('opendata_result/demonstration/random/abstract_(4)_ai_4shot_random2.xlsx')"
   ]
  },
  {
   "cell_type": "code",
   "execution_count": 6,
   "metadata": {},
   "outputs": [
    {
     "name": "stdout",
     "output_type": "stream",
     "text": [
      "{'rouge-1': {'f': 0.3707273472363635, 'p': 0.35839639972160203, 'r': 0.41792422263041956}, 'rouge-2': {'f': 0.14354066896472162, 'p': 0.14050040608116116, 'r': 0.16072943135798684}, 'rouge-l': {'f': 0.34805065465301466, 'p': 0.33657542403700197, 'r': 0.392327164959322}}\n"
     ]
    }
   ],
   "source": [
    "getScore('opendata_result/demonstration/random/abstract_(4)_ai_4shot_random3.xlsx')"
   ]
  },
  {
   "cell_type": "code",
   "execution_count": 7,
   "metadata": {},
   "outputs": [
    {
     "name": "stdout",
     "output_type": "stream",
     "text": [
      "{'rouge-1': {'f': 0.36807181623501234, 'p': 0.3566900164879135, 'r': 0.4143260705243235}, 'rouge-2': {'f': 0.14095536716361529, 'p': 0.13852855537120135, 'r': 0.15701352654396925}, 'rouge-l': {'f': 0.3447120149041429, 'p': 0.33432763010290617, 'r': 0.3878343946509157}}\n"
     ]
    }
   ],
   "source": [
    "getScore('opendata_result/demonstration/random/abstract_(4)_ai_4shot_random4.xlsx')"
   ]
  },
  {
   "cell_type": "markdown",
   "metadata": {},
   "source": [
    "6-shot"
   ]
  },
  {
   "cell_type": "code",
   "execution_count": 4,
   "metadata": {},
   "outputs": [
    {
     "name": "stdout",
     "output_type": "stream",
     "text": [
      "{'rouge-2': {'f': 0.14584679351165636, 'p': 0.14100223484802185, 'r': 0.16130261210123287}, 'rouge-1': {'f': 0.3825535599055033, 'p': 0.36805971915481156, 'r': 0.42610593688242276}, 'rouge-l': {'f': 0.3601244055918258, 'p': 0.34615189078554937, 'r': 0.4012939795688215}}\n"
     ]
    }
   ],
   "source": [
    "getScore('opendata_result/demonstration/random/abstract_(4)_ai_6shot_random1.xlsx')"
   ]
  },
  {
   "cell_type": "code",
   "execution_count": 5,
   "metadata": {},
   "outputs": [
    {
     "name": "stdout",
     "output_type": "stream",
     "text": [
      "{'rouge-2': {'f': 0.13839181812125706, 'p': 0.13553699101087283, 'r': 0.15144018502878528}, 'rouge-1': {'f': 0.37033076366505163, 'p': 0.36181532809081496, 'r': 0.40654062640653593}, 'rouge-l': {'f': 0.349277209169878, 'p': 0.3408324565944459, 'r': 0.38399710501810086}}\n"
     ]
    }
   ],
   "source": [
    "getScore('opendata_result/demonstration/random/abstract_(4)_ai_6shot_random2.xlsx')"
   ]
  },
  {
   "cell_type": "code",
   "execution_count": 6,
   "metadata": {},
   "outputs": [
    {
     "name": "stdout",
     "output_type": "stream",
     "text": [
      "{'rouge-2': {'f': 0.13891852099855811, 'p': 0.13422054375190512, 'r': 0.15369303724743377}, 'rouge-1': {'f': 0.3689834638785665, 'p': 0.35605709636664984, 'r': 0.408343995266697}, 'rouge-l': {'f': 0.3475095396098682, 'p': 0.3349888398973358, 'r': 0.38493693053635947}}\n"
     ]
    }
   ],
   "source": [
    "getScore('opendata_result/demonstration/random/abstract_(4)_ai_6shot_random3.xlsx')"
   ]
  },
  {
   "cell_type": "code",
   "execution_count": 7,
   "metadata": {},
   "outputs": [
    {
     "name": "stdout",
     "output_type": "stream",
     "text": [
      "{'rouge-2': {'f': 0.15646181396876724, 'p': 0.1583486384033724, 'r': 0.16835950485731963}, 'rouge-1': {'f': 0.38620247777801747, 'p': 0.3897644690143952, 'r': 0.4143417247746742}, 'rouge-l': {'f': 0.361605752074591, 'p': 0.36479344811779485, 'r': 0.3880918781257811}}\n"
     ]
    }
   ],
   "source": [
    "getScore('opendata_result/demonstration/random/abstract_(4)_ai_6shot_random4.xlsx')"
   ]
  },
  {
   "cell_type": "markdown",
   "metadata": {},
   "source": [
    "2-shot"
   ]
  },
  {
   "cell_type": "code",
   "execution_count": 7,
   "metadata": {},
   "outputs": [
    {
     "name": "stdout",
     "output_type": "stream",
     "text": [
      "{'rouge-1': {'f': 0.36223532573017725, 'p': 0.3366225291003702, 'r': 0.4267968664690888}, 'rouge-2': {'f': 0.13575074024461353, 'p': 0.12748400379761204, 'r': 0.15802810543034193}, 'rouge-l': {'f': 0.34062247348647734, 'p': 0.31665138294203043, 'r': 0.40140103035178054}}\n"
     ]
    }
   ],
   "source": [
    "getScore('opendata_result/demonstration/random/abstract_(4)_ai_2shot_random1.xlsx')"
   ]
  },
  {
   "cell_type": "code",
   "execution_count": 8,
   "metadata": {},
   "outputs": [
    {
     "name": "stdout",
     "output_type": "stream",
     "text": [
      "{'rouge-1': {'f': 0.37181262308235347, 'p': 0.35911412065950465, 'r': 0.41641664185991906}, 'rouge-2': {'f': 0.1416726621525178, 'p': 0.13627694161367684, 'r': 0.1596465795612844}, 'rouge-l': {'f': 0.3514268447462287, 'p': 0.3390838544405016, 'r': 0.39413959877582583}}\n"
     ]
    }
   ],
   "source": [
    "getScore('opendata_result/demonstration/random/abstract_(4)_ai_2shot_random2.xlsx')"
   ]
  },
  {
   "cell_type": "code",
   "execution_count": 9,
   "metadata": {},
   "outputs": [
    {
     "name": "stdout",
     "output_type": "stream",
     "text": [
      "{'rouge-1': {'f': 0.36253960944845603, 'p': 0.3156302277111016, 'r': 0.45470844909061076}, 'rouge-2': {'f': 0.1403311831128506, 'p': 0.12184888238732614, 'r': 0.1760922209469066}, 'rouge-l': {'f': 0.33944363136278394, 'p': 0.2950286143257714, 'r': 0.4267630487111582}}\n"
     ]
    }
   ],
   "source": [
    "getScore('opendata_result/demonstration/random/abstract_(4)_ai_2shot_random3.xlsx')"
   ]
  },
  {
   "cell_type": "code",
   "execution_count": 11,
   "metadata": {},
   "outputs": [
    {
     "name": "stdout",
     "output_type": "stream",
     "text": [
      "{'rouge-1': {'f': 0.37742991126852393, 'p': 0.35199031435067246, 'r': 0.4477840235401485}, 'rouge-2': {'f': 0.14907661193224106, 'p': 0.1406669907374377, 'r': 0.17632094125376463}, 'rouge-l': {'f': 0.35335862895067927, 'p': 0.3291738613294018, 'r': 0.42007592383846}}\n"
     ]
    }
   ],
   "source": [
    "getScore('opendata_result/demonstration/random/abstract_(4)_ai_2shot_random4.xlsx')"
   ]
  },
  {
   "cell_type": "markdown",
   "metadata": {},
   "source": [
    "1-shot"
   ]
  },
  {
   "cell_type": "code",
   "execution_count": 12,
   "metadata": {},
   "outputs": [
    {
     "name": "stdout",
     "output_type": "stream",
     "text": [
      "{'rouge-1': {'f': 0.3899698321995171, 'p': 0.3616510071865431, 'r': 0.4686099973330439}, 'rouge-2': {'f': 0.16337553991651277, 'p': 0.15228368963067324, 'r': 0.1970706950676253}, 'rouge-l': {'f': 0.36694427411645636, 'p': 0.3399121147565823, 'r': 0.4418485342556643}}\n"
     ]
    }
   ],
   "source": [
    "getScore('opendata_result/demonstration/random/abstract_(4)_ai_1shot_random1.xlsx')"
   ]
  },
  {
   "cell_type": "code",
   "execution_count": 13,
   "metadata": {},
   "outputs": [
    {
     "name": "stdout",
     "output_type": "stream",
     "text": [
      "{'rouge-1': {'f': 0.36802934497865614, 'p': 0.33012604729554246, 'r': 0.4420337117530509}, 'rouge-2': {'f': 0.13776582403879334, 'p': 0.12415348361413908, 'r': 0.16498682638309325}, 'rouge-l': {'f': 0.3449966293279358, 'p': 0.30917865794883687, 'r': 0.41487883705146156}}\n"
     ]
    }
   ],
   "source": [
    "getScore('opendata_result/demonstration/random/abstract_(4)_ai_1shot_random2.xlsx')"
   ]
  },
  {
   "cell_type": "code",
   "execution_count": 15,
   "metadata": {},
   "outputs": [
    {
     "name": "stdout",
     "output_type": "stream",
     "text": [
      "{'rouge-1': {'f': 0.3688138512117582, 'p': 0.346417883654411, 'r': 0.42366489205540286}, 'rouge-2': {'f': 0.13931441648171486, 'p': 0.13128555073556605, 'r': 0.15919552472376572}, 'rouge-l': {'f': 0.3457812554592123, 'p': 0.3246598810153951, 'r': 0.39737085819536}}\n"
     ]
    }
   ],
   "source": [
    "getScore('opendata_result/demonstration/random/abstract_(4)_ai_1shot_random3.xlsx')"
   ]
  },
  {
   "cell_type": "code",
   "execution_count": 16,
   "metadata": {},
   "outputs": [
    {
     "name": "stdout",
     "output_type": "stream",
     "text": [
      "{'rouge-1': {'f': 0.36078154956335057, 'p': 0.33950382564544707, 'r': 0.42178541636078226}, 'rouge-2': {'f': 0.13899058328313937, 'p': 0.13026259964265277, 'r': 0.16393990727432461}, 'rouge-l': {'f': 0.3413500183873629, 'p': 0.3209468444859846, 'r': 0.39981165748922215}}\n"
     ]
    }
   ],
   "source": [
    "getScore('opendata_result/demonstration/random/abstract_(4)_ai_1shot_random4.xlsx')"
   ]
  },
  {
   "cell_type": "markdown",
   "metadata": {},
   "source": [
    "#### CSPubSumm"
   ]
  },
  {
   "cell_type": "markdown",
   "metadata": {},
   "source": [
    "##### raw_prompt"
   ]
  },
  {
   "cell_type": "code",
   "execution_count": 3,
   "metadata": {},
   "outputs": [
    {
     "name": "stdout",
     "output_type": "stream",
     "text": [
      "{'rouge-2': {'f': 0.1263224904736588, 'p': 0.10133619418340689, 'r': 0.18439123688208958}, 'rouge-1': {'f': 0.34885040341051216, 'p': 0.2828700279626072, 'r': 0.500965932749555}, 'rouge-l': {'f': 0.29617359991483955, 'p': 0.24050662266494988, 'r': 0.4256248370966046}}\n"
     ]
    }
   ],
   "source": [
    "filename = 'raw_prompt/abstract_(1)_cs.xlsx'\n",
    "getScore(filename)"
   ]
  },
  {
   "cell_type": "code",
   "execution_count": 4,
   "metadata": {},
   "outputs": [
    {
     "name": "stdout",
     "output_type": "stream",
     "text": [
      "{'rouge-2': {'f': 0.1285979124713073, 'p': 0.10614770260995138, 'r': 0.17967896080656234}, 'rouge-1': {'f': 0.3580162944589888, 'p': 0.29953454909451777, 'r': 0.4916497316651542}, 'rouge-l': {'f': 0.30324318638013154, 'p': 0.25401323896591943, 'r': 0.4168258040601861}}\n"
     ]
    }
   ],
   "source": [
    "filename = 'raw_prompt/abstract_(2)_cs.xlsx'\n",
    "getScore(filename)"
   ]
  },
  {
   "cell_type": "code",
   "execution_count": 5,
   "metadata": {},
   "outputs": [
    {
     "name": "stdout",
     "output_type": "stream",
     "text": [
      "{'rouge-2': {'f': 0.12698972783061194, 'p': 0.09740166795893858, 'r': 0.20461991416326036}, 'rouge-1': {'f': 0.34365737492592735, 'p': 0.26750829165115975, 'r': 0.5393894748906409}, 'rouge-l': {'f': 0.2924677797721537, 'p': 0.2276388962258883, 'r': 0.460122948242174}}\n"
     ]
    }
   ],
   "source": [
    "filename = 'raw_prompt/abstract_(3)_cs.xlsx'\n",
    "getScore(filename)"
   ]
  },
  {
   "cell_type": "code",
   "execution_count": 6,
   "metadata": {},
   "outputs": [
    {
     "name": "stdout",
     "output_type": "stream",
     "text": [
      "{'rouge-2': {'f': 0.1351001053028271, 'p': 0.14847262142939616, 'r': 0.16471015480006956}, 'rouge-1': {'f': 0.3405836598630623, 'p': 0.3718679720815222, 'r': 0.40280878029834644}, 'rouge-l': {'f': 0.2979037458650494, 'p': 0.3283232696188889, 'r': 0.3513651567294105}}\n"
     ]
    }
   ],
   "source": [
    "filename = 'raw_prompt/abstract_(4)_cs.xlsx'\n",
    "getScore(filename)"
   ]
  },
  {
   "cell_type": "code",
   "execution_count": 7,
   "metadata": {},
   "outputs": [
    {
     "name": "stdout",
     "output_type": "stream",
     "text": [
      "{'rouge-2': {'f': 0.13307403315600191, 'p': 0.10340826650055193, 'r': 0.21911766298481009}, 'rouge-1': {'f': 0.34082891985561353, 'p': 0.2664060230978068, 'r': 0.5517782155895842}, 'rouge-l': {'f': 0.2923598515399781, 'p': 0.228523540634921, 'r': 0.4740046308524733}}\n"
     ]
    }
   ],
   "source": [
    "filename = 'raw_prompt/abstract_(5)_cs.xlsx'\n",
    "getScore(filename)"
   ]
  },
  {
   "cell_type": "markdown",
   "metadata": {},
   "source": [
    "##### basic experiment"
   ]
  },
  {
   "cell_type": "code",
   "execution_count": 4,
   "metadata": {},
   "outputs": [
    {
     "data": {
      "text/plain": [
       "{'rouge-2': {'f': 0.14970457038182458,\n",
       "  'p': 0.15023133834898666,\n",
       "  'r': 0.16126581604469883},\n",
       " 'rouge-1': {'f': 0.38290656581548366,\n",
       "  'p': 0.37871917082572504,\n",
       "  'r': 0.4123865206494805},\n",
       " 'rouge-l': {'f': 0.35787746172627116,\n",
       "  'p': 0.3539287632511218,\n",
       "  'r': 0.385628378020378}}"
      ]
     },
     "execution_count": 4,
     "metadata": {},
     "output_type": "execute_result"
    }
   ],
   "source": [
    "df = pd.read_excel('opendata_result/abstract_(4)_cs_2shot.xlsx')\n",
    "\n",
    "generated_highlights = df['generate'].tolist()\n",
    "highlights = df['New_Highlight'].tolist()\n",
    "\n",
    "scores = r_compute.get_scores(generated_highlights, highlights)\n",
    "scores"
   ]
  },
  {
   "cell_type": "code",
   "execution_count": 5,
   "metadata": {},
   "outputs": [
    {
     "data": {
      "text/plain": [
       "{'rouge-2': {'f': 0.15704631578974518,\n",
       "  'p': 0.15765471961062866,\n",
       "  'r': 0.16826123062675621},\n",
       " 'rouge-1': {'f': 0.3878373544312537,\n",
       "  'p': 0.38533299871341276,\n",
       "  'r': 0.41548129462505035},\n",
       " 'rouge-l': {'f': 0.3617358808787036,\n",
       "  'p': 0.35945580144781947,\n",
       "  'r': 0.3877024497490707}}"
      ]
     },
     "execution_count": 5,
     "metadata": {},
     "output_type": "execute_result"
    }
   ],
   "source": [
    "df = pd.read_excel('opendata_result/abstract_(4)_cs_4shot.xlsx')\n",
    "\n",
    "generated_highlights = df['generate'].tolist()\n",
    "highlights = df['New_Highlight'].tolist()\n",
    "\n",
    "scores = r_compute.get_scores(generated_highlights, highlights)\n",
    "scores"
   ]
  },
  {
   "cell_type": "code",
   "execution_count": 6,
   "metadata": {},
   "outputs": [
    {
     "data": {
      "text/plain": [
       "{'rouge-2': {'f': 0.14522029129394254,\n",
       "  'p': 0.1448939009844215,\n",
       "  'r': 0.15931035175307162},\n",
       " 'rouge-1': {'f': 0.3777331766049767,\n",
       "  'p': 0.36850282236316045,\n",
       "  'r': 0.41736951437062264},\n",
       " 'rouge-l': {'f': 0.3507367608116811,\n",
       "  'p': 0.3424465605221054,\n",
       "  'r': 0.38723508484395697}}"
      ]
     },
     "execution_count": 6,
     "metadata": {},
     "output_type": "execute_result"
    }
   ],
   "source": [
    "df = pd.read_excel('opendata_result/abstract_(4)_cs_1shot.xlsx')\n",
    "\n",
    "generated_highlights = df['generate'].tolist()\n",
    "highlights = df['New_Highlight'].tolist()\n",
    "\n",
    "scores = r_compute.get_scores(generated_highlights, highlights)\n",
    "scores"
   ]
  },
  {
   "cell_type": "code",
   "execution_count": 7,
   "metadata": {},
   "outputs": [
    {
     "data": {
      "text/plain": [
       "{'rouge-2': {'f': 0.1595822685680027,\n",
       "  'p': 0.1375900263148869,\n",
       "  'r': 0.2038850470256649},\n",
       " 'rouge-1': {'f': 0.38394035215875544,\n",
       "  'p': 0.33237165733269997,\n",
       "  'r': 0.4873082673012584},\n",
       " 'rouge-l': {'f': 0.35962825178962027,\n",
       "  'p': 0.3112266446317721,\n",
       "  'r': 0.4566192305916811}}"
      ]
     },
     "execution_count": 7,
     "metadata": {},
     "output_type": "execute_result"
    }
   ],
   "source": [
    "df = pd.read_excel('opendata_result/abstract_(4)_cs.xlsx')\n",
    "\n",
    "generated_highlights = df['generate'].tolist()\n",
    "highlights = df['New_Highlight'].tolist()\n",
    "\n",
    "scores = r_compute.get_scores(generated_highlights, highlights)\n",
    "scores"
   ]
  },
  {
   "cell_type": "code",
   "execution_count": 4,
   "metadata": {},
   "outputs": [
    {
     "data": {
      "text/plain": [
       "{'rouge-2': {'f': 0.15767945120423077,\n",
       "  'p': 0.15580485712629272,\n",
       "  'r': 0.171251303212471},\n",
       " 'rouge-1': {'f': 0.3889080201127401,\n",
       "  'p': 0.38040342314661313,\n",
       "  'r': 0.4230485048839796},\n",
       " 'rouge-l': {'f': 0.3607975105519142,\n",
       "  'p': 0.3526270536496239,\n",
       "  'r': 0.3930129776371543}}"
      ]
     },
     "execution_count": 4,
     "metadata": {},
     "output_type": "execute_result"
    }
   ],
   "source": [
    "df = pd.read_excel('opendata_result/demonstration/abstract_(4)_cs_6shot.xlsx')\n",
    "\n",
    "generated_highlights = df['generate'].tolist()\n",
    "highlights = df['New_Highlight'].tolist()\n",
    "\n",
    "scores = r_compute.get_scores(generated_highlights, highlights)\n",
    "scores"
   ]
  },
  {
   "cell_type": "code",
   "execution_count": 5,
   "metadata": {},
   "outputs": [
    {
     "data": {
      "text/plain": [
       "{'rouge-2': {'f': 0.1532040574789202,\n",
       "  'p': 0.15967562751946016,\n",
       "  'r': 0.1608221791005313},\n",
       " 'rouge-1': {'f': 0.38688152237947404,\n",
       "  'p': 0.39618882989576787,\n",
       "  'r': 0.4056221701756149},\n",
       " 'rouge-l': {'f': 0.36167794658321345,\n",
       "  'p': 0.369425716265406,\n",
       "  'r': 0.3798997261904614}}"
      ]
     },
     "execution_count": 5,
     "metadata": {},
     "output_type": "execute_result"
    }
   ],
   "source": [
    "df = pd.read_excel('opendata_result/demonstration/abstract_(4)_cs_8shot.xlsx')\n",
    "\n",
    "generated_highlights = df['generate'].tolist()\n",
    "highlights = df['New_Highlight'].tolist()\n",
    "\n",
    "scores = r_compute.get_scores(generated_highlights, highlights)\n",
    "scores"
   ]
  },
  {
   "cell_type": "markdown",
   "metadata": {},
   "source": [
    "##### template differ"
   ]
  },
  {
   "cell_type": "code",
   "execution_count": 23,
   "metadata": {},
   "outputs": [
    {
     "name": "stdout",
     "output_type": "stream",
     "text": [
      "{'rouge-1': {'f': 0.2599190510217532, 'p': 0.1703571395968178, 'r': 0.6353090488321017}, 'rouge-2': {'f': 0.10118022685563928, 'p': 0.06617005290245642, 'r': 0.25027527855918286}, 'rouge-l': {'f': 0.23717802921461545, 'p': 0.15515768113305606, 'r': 0.5836252346974249}}\n"
     ]
    }
   ],
   "source": [
    "getScore('new_prompt/abstract_(1)_cs.xlsx')"
   ]
  },
  {
   "cell_type": "code",
   "execution_count": 13,
   "metadata": {},
   "outputs": [
    {
     "name": "stdout",
     "output_type": "stream",
     "text": [
      "{'rouge-1': {'f': 0.3309671471713354, 'p': 0.23900271238060483, 'r': 0.575243648672976}, 'rouge-2': {'f': 0.13014542144073887, 'p': 0.09401228942410246, 'r': 0.2267711113670382}, 'rouge-l': {'f': 0.3084672858552025, 'p': 0.2226451306715838, 'r': 0.5370345299294864}}\n"
     ]
    }
   ],
   "source": [
    "getScore('new_prompt/abstract_(2)_cs.xlsx')"
   ]
  },
  {
   "cell_type": "code",
   "execution_count": 14,
   "metadata": {},
   "outputs": [
    {
     "name": "stdout",
     "output_type": "stream",
     "text": [
      "{'rouge-1': {'f': 0.3663547395542471, 'p': 0.3254118076578078, 'r': 0.4613329537110404}, 'rouge-2': {'f': 0.1365402796653036, 'p': 0.12092193935535252, 'r': 0.17354550328551527}, 'rouge-l': {'f': 0.31537332225866244, 'p': 0.2803215801326681, 'r': 0.39743375413807325}}\n"
     ]
    }
   ],
   "source": [
    "getScore('new_prompt/abstract_(3)_cs.xlsx')"
   ]
  },
  {
   "cell_type": "code",
   "execution_count": 15,
   "metadata": {},
   "outputs": [
    {
     "name": "stdout",
     "output_type": "stream",
     "text": [
      "{'rouge-1': {'f': 0.38394035215875544, 'p': 0.33237165733269997, 'r': 0.4873082673012584}, 'rouge-2': {'f': 0.1595822685680027, 'p': 0.1375900263148869, 'r': 0.2038850470256649}, 'rouge-l': {'f': 0.35962825178962027, 'p': 0.3112266446317721, 'r': 0.4566192305916811}}\n"
     ]
    }
   ],
   "source": [
    "getScore('new_prompt/abstract_(4)_cs.xlsx')"
   ]
  },
  {
   "cell_type": "code",
   "execution_count": 16,
   "metadata": {},
   "outputs": [
    {
     "name": "stdout",
     "output_type": "stream",
     "text": [
      "{'rouge-1': {'f': 0.3535391803033716, 'p': 0.2805704885793609, 'r': 0.5436487817832287}, 'rouge-2': {'f': 0.15030095856254866, 'p': 0.11864854674239915, 'r': 0.23452171578146078}, 'rouge-l': {'f': 0.3354819675272277, 'p': 0.2655749097409695, 'r': 0.5174982005537898}}\n"
     ]
    }
   ],
   "source": [
    "getScore('new_prompt/abstract_(5)_cs.xlsx')"
   ]
  },
  {
   "cell_type": "markdown",
   "metadata": {},
   "source": [
    "##### demonstration"
   ]
  },
  {
   "cell_type": "code",
   "execution_count": 3,
   "metadata": {},
   "outputs": [
    {
     "data": {
      "text/plain": [
       "{'rouge-2': {'f': 0.14522029129394254,\n",
       "  'p': 0.1448939009844215,\n",
       "  'r': 0.15931035175307162},\n",
       " 'rouge-1': {'f': 0.3777331766049767,\n",
       "  'p': 0.36850282236316045,\n",
       "  'r': 0.41736951437062264},\n",
       " 'rouge-l': {'f': 0.3507367608116811,\n",
       "  'p': 0.3424465605221054,\n",
       "  'r': 0.38723508484395697}}"
      ]
     },
     "execution_count": 3,
     "metadata": {},
     "output_type": "execute_result"
    }
   ],
   "source": [
    "df = pd.read_excel('opendata_result/abstract_(4)_cs_1shot.xlsx')\n",
    "\n",
    "generated_highlights = df['generate'].tolist()\n",
    "highlights = df['New_Highlight'].tolist()\n",
    "\n",
    "scores = r_compute.get_scores(generated_highlights, highlights)\n",
    "scores"
   ]
  },
  {
   "cell_type": "code",
   "execution_count": 6,
   "metadata": {},
   "outputs": [
    {
     "data": {
      "text/plain": [
       "{'rouge-2': {'f': 0.15218844111564253,\n",
       "  'p': 0.1502223835319747,\n",
       "  'r': 0.16962757352461635},\n",
       " 'rouge-1': {'f': 0.38642681177690763,\n",
       "  'p': 0.3781850470806228,\n",
       "  'r': 0.42902937706050287},\n",
       " 'rouge-l': {'f': 0.35861553434913596,\n",
       "  'p': 0.35024053123995447,\n",
       "  'r': 0.3989465222848205}}"
      ]
     },
     "execution_count": 6,
     "metadata": {},
     "output_type": "execute_result"
    }
   ],
   "source": [
    "df = pd.read_excel('opendata_result/demonstration/1shot_test/abstract_(4)_cs_1shot_1.xlsx')\n",
    "\n",
    "generated_highlights = df['generate'].tolist()\n",
    "highlights = df['New_Highlight'].tolist()\n",
    "\n",
    "scores = r_compute.get_scores(generated_highlights, highlights)\n",
    "scores"
   ]
  },
  {
   "cell_type": "code",
   "execution_count": 7,
   "metadata": {},
   "outputs": [
    {
     "data": {
      "text/plain": [
       "{'rouge-2': {'f': 0.14354503660540918,\n",
       "  'p': 0.12996634828729212,\n",
       "  'r': 0.1714215507772934},\n",
       " 'rouge-1': {'f': 0.38508006895210495,\n",
       "  'p': 0.3491250878327073,\n",
       "  'r': 0.4573621515783642},\n",
       " 'rouge-l': {'f': 0.3591766429734338,\n",
       "  'p': 0.3259020704774346,\n",
       "  'r': 0.42599646116364226}}"
      ]
     },
     "execution_count": 7,
     "metadata": {},
     "output_type": "execute_result"
    }
   ],
   "source": [
    "df = pd.read_excel('opendata_result/demonstration/1shot_test/abstract_(4)_cs_1shot_4.xlsx')\n",
    "\n",
    "generated_highlights = df['generate'].tolist()\n",
    "highlights = df['New_Highlight'].tolist()\n",
    "\n",
    "scores = r_compute.get_scores(generated_highlights, highlights)\n",
    "scores"
   ]
  },
  {
   "cell_type": "code",
   "execution_count": 5,
   "metadata": {},
   "outputs": [
    {
     "data": {
      "text/plain": [
       "{'rouge-2': {'f': 0.1481044256336643,\n",
       "  'p': 0.14889275887035833,\n",
       "  'r': 0.15979724908854362},\n",
       " 'rouge-1': {'f': 0.38485857554872194,\n",
       "  'p': 0.38454806180597473,\n",
       "  'r': 0.41474466243398456},\n",
       " 'rouge-l': {'f': 0.356644788570324,\n",
       "  'p': 0.3562692021894095,\n",
       "  'r': 0.38441226188964156}}"
      ]
     },
     "execution_count": 5,
     "metadata": {},
     "output_type": "execute_result"
    }
   ],
   "source": [
    "df = pd.read_excel('opendata_result/demonstration/1shot_test/abstract_(4)_cs_1shot_6.xlsx')\n",
    "\n",
    "generated_highlights = df['generate'].tolist()\n",
    "highlights = df['New_Highlight'].tolist()\n",
    "\n",
    "scores = r_compute.get_scores(generated_highlights, highlights)\n",
    "scores"
   ]
  },
  {
   "cell_type": "code",
   "execution_count": 3,
   "metadata": {},
   "outputs": [
    {
     "data": {
      "text/plain": [
       "{'rouge-1': {'f': 0.38750984613343237,\n",
       "  'p': 0.3668045984653548,\n",
       "  'r': 0.44685876017090703},\n",
       " 'rouge-2': {'f': 0.15435008373147652,\n",
       "  'p': 0.1464756648248783,\n",
       "  'r': 0.1781878021264511},\n",
       " 'rouge-l': {'f': 0.36092157568595995,\n",
       "  'p': 0.3408473254209422,\n",
       "  'r': 0.41691700507382007}}"
      ]
     },
     "execution_count": 3,
     "metadata": {},
     "output_type": "execute_result"
    }
   ],
   "source": [
    "df = pd.read_excel('opendata_result/demonstration/1shot_test/abstract_(4)_cs_1shot_clostRouge.xlsx')\n",
    "generated_highlights = df['generate'].tolist()\n",
    "highlights = df['New_Highlight'].tolist()\n",
    "\n",
    "scores = r_compute.get_scores(generated_highlights, highlights)\n",
    "scores"
   ]
  }
 ],
 "metadata": {
  "kernelspec": {
   "display_name": "pytorch",
   "language": "python",
   "name": "python3"
  },
  "language_info": {
   "codemirror_mode": {
    "name": "ipython",
    "version": 3
   },
   "file_extension": ".py",
   "mimetype": "text/x-python",
   "name": "python",
   "nbconvert_exporter": "python",
   "pygments_lexer": "ipython3",
   "version": "3.9.13"
  },
  "orig_nbformat": 4
 },
 "nbformat": 4,
 "nbformat_minor": 2
}
